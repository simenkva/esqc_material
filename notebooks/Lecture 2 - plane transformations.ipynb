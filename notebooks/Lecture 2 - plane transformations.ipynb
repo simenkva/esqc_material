{
 "cells": [
  {
   "cell_type": "code",
   "execution_count": 22,
   "metadata": {},
   "outputs": [],
   "source": [
    "# the usual imports\n",
    "import numpy as np\n",
    "import matplotlib.pyplot as plt\n",
    "exp = np.exp\n",
    "sin = np.sin\n",
    "cos = np.cos\n",
    "from icecream import ic\n",
    "\n",
    "# Set up matplotlib\n",
    "%matplotlib inline\n",
    "# set default figure size\n",
    "plt.rcParams['figure.figsize'] = [4, 4]\n",
    "# set tick label size \n",
    "plt.rcParams.update({'font.size': 10})\n",
    "# set x any y label size and title size\n",
    "plt.rcParams.update({'axes.labelsize': 15})\n",
    "plt.rcParams.update({'axes.titlesize': 15})\n",
    "# add grid by default\n",
    "plt.rcParams['axes.grid'] = True\n",
    "# set legend size to 10\n",
    "plt.rcParams.update({'legend.fontsize': 10})\n"
   ]
  },
  {
   "cell_type": "code",
   "execution_count": 23,
   "metadata": {},
   "outputs": [],
   "source": [
    "# This is a path that for 0 <= t <= 2*pi traces out the outline of a cat.\n",
    "# Source: https://www.geogebra.org/m/pH8wD3rW\n",
    " \n",
    "cat_path = lambda t:  np.array([-(721 *sin(t))/4+196/3 *sin(2 *t)-86/3 *sin(3 *t)-131/2 *sin(4 *t)+477/14 *sin(5 *t)+27 *sin(6 *t)-\\\n",
    "     29/2 *sin(7 *t)+68/5 *sin(8 *t)+1/10 *sin(9 *t)+23/4 *sin(10 *t)-19/2 *sin(12 *t)-85/21 *sin(13 *t)+\\\n",
    "     2/3 *sin(14 *t)+27/5 *sin(15 *t)+7/4 *sin(16 *t)+17/9 *sin(17 *t)-4 *sin(18 *t)-1/2 *sin(19 *t)+\\\n",
    "     1/6 *sin(20 *t)+6/7 *sin(21 *t)-1/8 *sin(22 *t)+1/3 *sin(23 *t)+3/2 *sin(24 *t)+13/5 *sin(25 *t)+\\\n",
    "     sin(26 *t)-2 *sin(27 *t)+3/5 *sin(28 *t)-1/5 *sin(29 *t)+1/5 *sin(30 *t)+(2337 *cos(t))/8-\\\n",
    "     43/5 *cos(2 *t)+322/5 *cos(3 *t)-117/5 *cos(4 *t)-26/5 *cos(5 *t)-23/3 *cos(6 *t)+143/4 *cos(7 *t)-\\\n",
    "     11/4 *cos(8 *t)-31/3 *cos(9 *t)-13/4 *cos(10 *t)-9/2 *cos(11 *t)+41/20 *cos(12 *t)+8 *cos(13 *t)+\\\n",
    "     2/3 *cos(14 *t)+6 *cos(15 *t)+17/4 *cos(16 *t)-3/2 *cos(17 *t)-29/10 *cos(18 *t)+11/6 *cos(19 *t)+\\\n",
    "     12/5 *cos(20 *t)+3/2 *cos(21 *t)+11/12 *cos(22 *t)-4/5 *cos(23 *t)+cos(24 *t)+17/8 *cos(25 *t)-\\\n",
    "     7/2 *cos(26 *t)-5/6 *cos(27 *t)-11/10 *cos(28 *t)+1/2 *cos(29 *t)-1/5 *cos(30 *t), -(637 *sin(t))/2-\\\n",
    "     188/5 *sin(2 *t)-11/7 *sin(3 *t)-12/5 *sin(4 *t)+11/3 *sin(5 *t)-37/4 *sin(6 *t)+8/3 *sin(7 *t)+\\\n",
    "     65/6 *sin(8 *t)-32/5 *sin(9 *t)-41/4 *sin(10 *t)-38/3 *sin(11 *t)-47/8 *sin(12 *t)+5/4 *sin(13 *t)-\\\n",
    "     41/7 *sin(14 *t)-7/3 *sin(15 *t)-13/7 *sin(16 *t)+17/4 *sin(17 *t)-9/4 *sin(18 *t)+8/9 *sin(19 *t)+\\\n",
    "     3/5 *sin(20 *t)-2/5 *sin(21 *t)+4/3 *sin(22 *t)+1/3 *sin(23 *t)+3/5 *sin(24 *t)-3/5 *sin(25 *t)+\\\n",
    "     6/5 *sin(26 *t)-1/5 *sin(27 *t)+10/9 *sin(28 *t)+1/3 *sin(29 *t)-3/4 *sin(30 *t)-(125 *cos(t))/2-\\\n",
    "     521/9 *cos(2 *t)-359/3 *cos(3 *t)+47/3 *cos(4 *t)-33/2 *cos(5 *t)-5/4 *cos(6 *t)+31/8 *cos(7 *t)+\\\n",
    "     9/10 *cos(8 *t)-119/4 *cos(9 *t)-17/2 *cos(10 *t)+22/3 *cos(11 *t)+15/4 *cos(12 *t)-5/2 *cos(13 *t)+\\\n",
    "     19/6 *cos(14 *t)+7/4 *cos(15 *t)+31/4 *cos(16 *t)-cos(17 *t)+11/10 *cos(18 *t)-2/3 *cos(19 *t)+\\\n",
    "     13/3 *cos(20 *t)-5/4 *cos(21 *t)+2/3 *cos(22 *t)+1/4 *cos(23 *t)+5/6 *cos(24 *t)+3/4 *cos(26 *t)-\\\n",
    "     1/2 *cos(27 *t)-1/10 *cos(28 *t)-1/3 *cos(29 *t)-1/19 *cos(30 *t)]) # 0 <= t <= 2 pi"
   ]
  },
  {
   "cell_type": "code",
   "execution_count": null,
   "metadata": {},
   "outputs": [],
   "source": [
    "# Define a range of t-values, and compute points on the curve defined by cat_path.\n",
    "#\n",
    "# Thus, the curve is represented by a MATRIX, where each COLUMN is a point in space.\n",
    "t = np.linspace(0,2*np.pi, 500)\n",
    "C = cat_path(t)\n",
    "print(f'There are {C.shape[1]} points in R^{C.shape[0]} computed.')\n",
    "print('Shape of C:', C.shape)\n"
   ]
  },
  {
   "cell_type": "code",
   "execution_count": 25,
   "metadata": {},
   "outputs": [],
   "source": [
    "def plot_curve(curve, fig = None, window = 800, title = '', label = None):\n",
    "    \"\"\" Plot a curve.\"\"\"\n",
    "    if fig is None:\n",
    "        fig = plt.figure()\n",
    "    x = curve[0,:]\n",
    "    y = curve[1,:]\n",
    "    plt.plot(x,y, label = label)\n",
    "    ax = plt.gca()\n",
    "    ax.set_aspect('equal')\n",
    "    ax.set_xlim(-window,window)\n",
    "    ax.set_ylim(-window,window)\n",
    "    ax.legend()\n",
    "    return fig"
   ]
  },
  {
   "cell_type": "code",
   "execution_count": null,
   "metadata": {},
   "outputs": [],
   "source": [
    "fig = plot_curve(C, title = 'The cat curve', label = 'cat')"
   ]
  },
  {
   "cell_type": "code",
   "execution_count": 16,
   "metadata": {},
   "outputs": [],
   "source": [
    "def rot_matrix(angle):\n",
    "    \"\"\" Matrix of rotation by a given angle.\"\"\"\n",
    "    theta = np.pi / 180 * angle\n",
    "    A = np.array([[cos(theta), -sin(theta)], [sin(theta), cos(theta)]])\n",
    "    return A\n",
    "\n",
    "def reflection_x_matrix():\n",
    "    \"\"\" Reflection about the x axis\"\"\"\n",
    "    return np.array([[1,0],[0,-1]])\n",
    "\n",
    "def reflection_matrix(angle):\n",
    "    \"\"\" Reflection about axis with given angle rel. x-axis\"\"\"\n",
    "    return rot_matrix(angle) @ reflection_x_matrix() @ rot_matrix(-angle)\n",
    "    \n",
    "def scale_matrix(alpha, beta):\n",
    "    \"\"\" Scaling of x and y by alpha and beta, respectively.\"\"\"\n",
    "    return np.array([[alpha,0],[0,beta]])\n"
   ]
  },
  {
   "cell_type": "code",
   "execution_count": null,
   "metadata": {},
   "outputs": [],
   "source": [
    "#\n",
    "# Plot the reflection about the x axis.\n",
    "#\n",
    "\n",
    "A = reflection_matrix(0)\n",
    "ic(A)\n",
    "\n",
    "# note that A is applied to each COLUMN of C, i.e., each point on the curve\n",
    "fig = plot_curve(C, label = 'original')\n",
    "fig = plot_curve(A @ C, fig=fig, label='reflected about x-axis', title = 'Reflection of cat')"
   ]
  },
  {
   "cell_type": "code",
   "execution_count": null,
   "metadata": {},
   "outputs": [],
   "source": [
    "#\n",
    "# Plot the reflection about the axis making a 45 degree angle with the x axis.\n",
    "#\n",
    "\n",
    "A = reflection_matrix(45)\n",
    "ic(A)\n",
    "# note that A is applied to each COLUMN of C, i.e., each point on the curve\n",
    "fig = plot_curve(C, label = 'original curve')\n",
    "fig = plot_curve(A @ C, fig = fig, label = 'reflected' )"
   ]
  },
  {
   "cell_type": "code",
   "execution_count": null,
   "metadata": {
    "scrolled": false
   },
   "outputs": [],
   "source": [
    "#\n",
    "# Rotate the curve by a selection of angles\n",
    "#\n",
    "\n",
    "fig = plt.figure()\n",
    "for angle in np.linspace(0,45,4):\n",
    "    A = rot_matrix(angle)\n",
    "    print(f'Rotation matrix for angle {angle} = ')\n",
    "    print(A)\n",
    "    fig = plot_curve(A @ C, fig=fig, label=f'rotated by {angle} degrees', title = 'Rotations')"
   ]
  },
  {
   "cell_type": "code",
   "execution_count": null,
   "metadata": {},
   "outputs": [],
   "source": [
    "#\n",
    "# Shrink the curve by a selection of uniform factors alpha = beta\n",
    "#\n",
    "\n",
    "fig = plt.figure()\n",
    "for alpha in np.linspace(1,0.2,5):\n",
    "    A = scale_matrix(alpha,alpha)\n",
    "    print(f'Scaling matrix for angle {alpha} = ')\n",
    "    print(A)\n",
    "    fig = plot_curve(A @ C, fig=fig, label=f'scaled by {alpha:.02f}', title = 'Scaling')"
   ]
  },
  {
   "cell_type": "code",
   "execution_count": null,
   "metadata": {},
   "outputs": [],
   "source": [
    "#\n",
    "# Do some stretching in the direction \n",
    "# defined by 30 degrees relative to x axis\n",
    "#\n",
    "fig = plt.figure()\n",
    "for alpha in np.linspace(1.0, 0.2, 3):\n",
    "    A = rot_matrix(30) @ scale_matrix(alpha,1) @ rot_matrix(-30)\n",
    "    print(f'A = ')\n",
    "    print(A)\n",
    "    fig = plot_curve(A @ C, fig=fig, label=f'squashed by {alpha}', title = 'Squashing along 30 degrees')"
   ]
  },
  {
   "cell_type": "code",
   "execution_count": null,
   "metadata": {},
   "outputs": [],
   "source": []
  }
 ],
 "metadata": {
  "kernelspec": {
   "display_name": "Python 3",
   "language": "python",
   "name": "python3"
  },
  "language_info": {
   "codemirror_mode": {
    "name": "ipython",
    "version": 3
   },
   "file_extension": ".py",
   "mimetype": "text/x-python",
   "name": "python",
   "nbconvert_exporter": "python",
   "pygments_lexer": "ipython3",
   "version": "3.10.14"
  }
 },
 "nbformat": 4,
 "nbformat_minor": 4
}
